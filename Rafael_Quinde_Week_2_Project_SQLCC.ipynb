{
  "nbformat": 4,
  "nbformat_minor": 0,
  "metadata": {
    "colab": {
      "provenance": [],
      "collapsed_sections": [
        "Pg-a7-xULZ7m"
      ],
      "include_colab_link": true
    },
    "kernelspec": {
      "name": "python3",
      "display_name": "Python 3"
    },
    "language_info": {
      "name": "python"
    }
  },
  "cells": [
    {
      "cell_type": "markdown",
      "metadata": {
        "id": "view-in-github",
        "colab_type": "text"
      },
      "source": [
        "<a href=\"https://colab.research.google.com/github/SafetyVest2789/colab_notebook/blob/main/Rafael_Quinde_Week_2_Project_SQLCC.ipynb\" target=\"_parent\"><img src=\"https://colab.research.google.com/assets/colab-badge.svg\" alt=\"Open In Colab\"/></a>"
      ]
    },
    {
      "cell_type": "markdown",
      "source": [
        "> 1. DUPLICATE THIS COLAB TO START WORKING ON IT. Using File > Save a copy to drive.\n",
        "> 2. SHARE SETTINGS: In the new notebook, set the sharing settings to \"Anyone with the link\" can be a \"Commenter\" by clicking \"Share\" on the top right corner.\n",
        "\n",
        "<center>\n",
        "<img src=https://live-production.wcms.abc-cdn.net.au/4d72b144a5661c8423472b84e0b11720 width=\"400\"></center><br />\n",
        "\n",
        "\n",
        "# Week 2: Summarize data of Airbnb Sydney!\n",
        "\n",
        "Welcome to the project for week 2 of our *SQL Crash Course*! To earn your certificate in this class, you must submit both assignments. If you need any help, post in the questions channel on Slack or attend Office Hours. We're here to help you!\n",
        "\n",
        "This week, we went over ways to aggregate your data and learned other intricacies of SQL. We will implement these concepts in this week's project, but as you know, with a slight twist. You are still the General Manager at Airbnb Sydney, and you'll again encounter some scenarios that you'll solve by using SQL!"
      ],
      "metadata": {
        "id": "yVrZZ06OG2LW"
      }
    },
    {
      "cell_type": "markdown",
      "source": [
        "##### Prerequisite configuration\n",
        "Below we install the software required to run this project. Please make sure to **RUN IT** by clicking on the play-button icon and to feel free to ignore the content of these two hidden cells."
      ],
      "metadata": {
        "id": "Pg-a7-xULZ7m"
      }
    },
    {
      "cell_type": "code",
      "execution_count": null,
      "metadata": {
        "id": "gUx2DQloGAzk"
      },
      "outputs": [],
      "source": [
        "%%capture\n",
        "!pip install git+https://github.com/sb2nov/sql-cc.git"
      ]
    },
    {
      "cell_type": "code",
      "source": [
        "import pandas as pd\n",
        "from IPython.display import display, HTML\n",
        "import sqlcc\n",
        "from sqlcc import check\n",
        "\n",
        "# Show all the rows (instead of only a few)\n",
        "pd.set_option(\"display.max_rows\", None)\n",
        "\n",
        "# Set precision to max 2 decimals\n",
        "pd.set_option('precision', 2)\n",
        "\n",
        "# Set CSS Style for Table\n",
        "# Make it work with night & light mode\n",
        "# - Alternating rows\n",
        "# - th elements\n",
        "# - td elements\n",
        "css_style = '''\n",
        "<style>\n",
        "  html {\n",
        "    --td-font-color: black;\n",
        "    --font-color: black;\n",
        "    --background-color: #e0e0e0;\n",
        "  }\n",
        "  html[theme=dark] {\n",
        "    --td-font-color: white;\n",
        "    --font-color: black;\n",
        "    --background-color: #6688ff;\n",
        "  }\n",
        "  th {\n",
        "    background: #fbd44c;\n",
        "    color: var(--font-color);\n",
        "    font-size: 16px;\n",
        "    text-align: center;\n",
        "    font-weight: bold;\n",
        "  }\n",
        "  tr:nth-child(even) {\n",
        "    background-color: var(--background-color);\n",
        "    color: var(--font-color);\n",
        "  }\n",
        "  td {\n",
        "    font-size: 14px;\n",
        "    color: var(--td-font-color);\n",
        "  }\n",
        "</style>\n",
        "'''\n",
        "\n",
        "\n",
        "def run(sql_query):\n",
        "  df = sqlcc.run(sql_query)\n",
        "  \n",
        "  # Puts the scrollbar next to the DataFrame\n",
        "  display(HTML(css_style + \n",
        "               \"<div style='max-height: 500px; overflow: auto; width: fit-content; border-style: solid;\" + \n",
        "               \" border-width: 1px; border-color: #0139fe; font-family: GT Planar,Inter,Arial,sans-serif;'>\" +\n",
        "               df.style.render() +\n",
        "               \"</div>\"))"
      ],
      "metadata": {
        "id": "n-vdL9gWT2rm"
      },
      "execution_count": null,
      "outputs": []
    },
    {
      "cell_type": "markdown",
      "source": [
        "## Introduction\n",
        "\n",
        "As the General Manager for the Sydney area at Airbnb, you want to know more about the different listings of houses you onboarded. You have access to information regarding the **listings**, **neighbourhoods**, **reviews**, and **calendar**. Each of these have their own separate table, and follow the structure as shown in the week 1 project:\n",
        "\n",
        "<img src=\"https://corise.com/static/course/sql-crash-course/assets/cl9owz44x005e13a00fb5fhl0/Screen Shot 2022-10-25 at 5.42.23 PM.png\" height=\"450\">\n",
        "\n",
        "## Running and Testing Queries (Gentle reminder!)\n",
        "\n",
        "To access the data contained in these four previously mentioned tables, you'll need to write SQL between the triple quotation marks, like:\n",
        "\n",
        "```\n",
        "query = \"\"\"\n",
        "SELECT * FROM neighbourhoods\n",
        "\"\"\"\n",
        "run(query)\n",
        "check(q2_1_1 = query)\n",
        "```\n",
        "\n",
        "Then that SQL is pulled through a `run()`-command and a `check()`-command so  you can see the output of the SQL query and whether you wrote the expected query. You can see this after the output. If you've done it correctly, you'll see **\"Your SQL query is correct!\"**."
      ],
      "metadata": {
        "id": "XC-fNjXA_40y"
      }
    },
    {
      "cell_type": "code",
      "source": [
        "### Question: q2_1_1\n",
        "query = \"SELECT * FROM neighbourhoods\"\n",
        "\n",
        "run(query)\n",
        "check(q2_1_1 = query)"
      ],
      "metadata": {
        "id": "JHUQ1GEG_wm1",
        "colab": {
          "base_uri": "https://localhost:8080/",
          "height": 554
        },
        "outputId": "68cfc759-edea-4e82-d9db-8f378addb6d8"
      },
      "execution_count": null,
      "outputs": [
        {
          "output_type": "display_data",
          "data": {
            "text/plain": [
              "<IPython.core.display.HTML object>"
            ],
            "text/html": [
              "\n",
              "<style>\n",
              "  html {\n",
              "    --td-font-color: black;\n",
              "    --font-color: black;\n",
              "    --background-color: #e0e0e0;\n",
              "  }\n",
              "  html[theme=dark] {\n",
              "    --td-font-color: white;\n",
              "    --font-color: black;\n",
              "    --background-color: #6688ff;\n",
              "  }\n",
              "  th {\n",
              "    background: #fbd44c;\n",
              "    color: var(--font-color);\n",
              "    font-size: 16px;\n",
              "    text-align: center;\n",
              "    font-weight: bold;\n",
              "  }\n",
              "  tr:nth-child(even) {\n",
              "    background-color: var(--background-color);\n",
              "    color: var(--font-color);\n",
              "  }\n",
              "  td {\n",
              "    font-size: 14px;\n",
              "    color: var(--td-font-color);\n",
              "  }\n",
              "</style>\n",
              "<div style='max-height: 500px; overflow: auto; width: fit-content; border-style: solid; border-width: 1px; border-color: #0139fe; font-family: GT Planar,Inter,Arial,sans-serif;'><style type=\"text/css\">\n",
              "</style>\n",
              "<table id=\"T_b8bcb_\">\n",
              "  <thead>\n",
              "    <tr>\n",
              "      <th class=\"blank level0\" >&nbsp;</th>\n",
              "      <th class=\"col_heading level0 col0\" >neighbourhood_id</th>\n",
              "      <th class=\"col_heading level0 col1\" >neighbourhood</th>\n",
              "    </tr>\n",
              "  </thead>\n",
              "  <tbody>\n",
              "    <tr>\n",
              "      <th id=\"T_b8bcb_level0_row0\" class=\"row_heading level0 row0\" >0</th>\n",
              "      <td id=\"T_b8bcb_row0_col0\" class=\"data row0 col0\" >0</td>\n",
              "      <td id=\"T_b8bcb_row0_col1\" class=\"data row0 col1\" >Ashfield</td>\n",
              "    </tr>\n",
              "    <tr>\n",
              "      <th id=\"T_b8bcb_level0_row1\" class=\"row_heading level0 row1\" >1</th>\n",
              "      <td id=\"T_b8bcb_row1_col0\" class=\"data row1 col0\" >1</td>\n",
              "      <td id=\"T_b8bcb_row1_col1\" class=\"data row1 col1\" >Auburn</td>\n",
              "    </tr>\n",
              "    <tr>\n",
              "      <th id=\"T_b8bcb_level0_row2\" class=\"row_heading level0 row2\" >2</th>\n",
              "      <td id=\"T_b8bcb_row2_col0\" class=\"data row2 col0\" >2</td>\n",
              "      <td id=\"T_b8bcb_row2_col1\" class=\"data row2 col1\" >Bankstown</td>\n",
              "    </tr>\n",
              "    <tr>\n",
              "      <th id=\"T_b8bcb_level0_row3\" class=\"row_heading level0 row3\" >3</th>\n",
              "      <td id=\"T_b8bcb_row3_col0\" class=\"data row3 col0\" >3</td>\n",
              "      <td id=\"T_b8bcb_row3_col1\" class=\"data row3 col1\" >Blacktown</td>\n",
              "    </tr>\n",
              "    <tr>\n",
              "      <th id=\"T_b8bcb_level0_row4\" class=\"row_heading level0 row4\" >4</th>\n",
              "      <td id=\"T_b8bcb_row4_col0\" class=\"data row4 col0\" >4</td>\n",
              "      <td id=\"T_b8bcb_row4_col1\" class=\"data row4 col1\" >Botany Bay</td>\n",
              "    </tr>\n",
              "    <tr>\n",
              "      <th id=\"T_b8bcb_level0_row5\" class=\"row_heading level0 row5\" >5</th>\n",
              "      <td id=\"T_b8bcb_row5_col0\" class=\"data row5 col0\" >5</td>\n",
              "      <td id=\"T_b8bcb_row5_col1\" class=\"data row5 col1\" >Burwood</td>\n",
              "    </tr>\n",
              "    <tr>\n",
              "      <th id=\"T_b8bcb_level0_row6\" class=\"row_heading level0 row6\" >6</th>\n",
              "      <td id=\"T_b8bcb_row6_col0\" class=\"data row6 col0\" >6</td>\n",
              "      <td id=\"T_b8bcb_row6_col1\" class=\"data row6 col1\" >Camden</td>\n",
              "    </tr>\n",
              "    <tr>\n",
              "      <th id=\"T_b8bcb_level0_row7\" class=\"row_heading level0 row7\" >7</th>\n",
              "      <td id=\"T_b8bcb_row7_col0\" class=\"data row7 col0\" >7</td>\n",
              "      <td id=\"T_b8bcb_row7_col1\" class=\"data row7 col1\" >Campbelltown</td>\n",
              "    </tr>\n",
              "    <tr>\n",
              "      <th id=\"T_b8bcb_level0_row8\" class=\"row_heading level0 row8\" >8</th>\n",
              "      <td id=\"T_b8bcb_row8_col0\" class=\"data row8 col0\" >8</td>\n",
              "      <td id=\"T_b8bcb_row8_col1\" class=\"data row8 col1\" >Canada Bay</td>\n",
              "    </tr>\n",
              "    <tr>\n",
              "      <th id=\"T_b8bcb_level0_row9\" class=\"row_heading level0 row9\" >9</th>\n",
              "      <td id=\"T_b8bcb_row9_col0\" class=\"data row9 col0\" >9</td>\n",
              "      <td id=\"T_b8bcb_row9_col1\" class=\"data row9 col1\" >Canterbury</td>\n",
              "    </tr>\n",
              "    <tr>\n",
              "      <th id=\"T_b8bcb_level0_row10\" class=\"row_heading level0 row10\" >10</th>\n",
              "      <td id=\"T_b8bcb_row10_col0\" class=\"data row10 col0\" >10</td>\n",
              "      <td id=\"T_b8bcb_row10_col1\" class=\"data row10 col1\" >City Of Kogarah</td>\n",
              "    </tr>\n",
              "    <tr>\n",
              "      <th id=\"T_b8bcb_level0_row11\" class=\"row_heading level0 row11\" >11</th>\n",
              "      <td id=\"T_b8bcb_row11_col0\" class=\"data row11 col0\" >11</td>\n",
              "      <td id=\"T_b8bcb_row11_col1\" class=\"data row11 col1\" >Fairfield</td>\n",
              "    </tr>\n",
              "    <tr>\n",
              "      <th id=\"T_b8bcb_level0_row12\" class=\"row_heading level0 row12\" >12</th>\n",
              "      <td id=\"T_b8bcb_row12_col0\" class=\"data row12 col0\" >12</td>\n",
              "      <td id=\"T_b8bcb_row12_col1\" class=\"data row12 col1\" >Holroyd</td>\n",
              "    </tr>\n",
              "    <tr>\n",
              "      <th id=\"T_b8bcb_level0_row13\" class=\"row_heading level0 row13\" >13</th>\n",
              "      <td id=\"T_b8bcb_row13_col0\" class=\"data row13 col0\" >13</td>\n",
              "      <td id=\"T_b8bcb_row13_col1\" class=\"data row13 col1\" >Hornsby</td>\n",
              "    </tr>\n",
              "    <tr>\n",
              "      <th id=\"T_b8bcb_level0_row14\" class=\"row_heading level0 row14\" >14</th>\n",
              "      <td id=\"T_b8bcb_row14_col0\" class=\"data row14 col0\" >14</td>\n",
              "      <td id=\"T_b8bcb_row14_col1\" class=\"data row14 col1\" >Hunters Hill</td>\n",
              "    </tr>\n",
              "    <tr>\n",
              "      <th id=\"T_b8bcb_level0_row15\" class=\"row_heading level0 row15\" >15</th>\n",
              "      <td id=\"T_b8bcb_row15_col0\" class=\"data row15 col0\" >15</td>\n",
              "      <td id=\"T_b8bcb_row15_col1\" class=\"data row15 col1\" >Hurstville</td>\n",
              "    </tr>\n",
              "    <tr>\n",
              "      <th id=\"T_b8bcb_level0_row16\" class=\"row_heading level0 row16\" >16</th>\n",
              "      <td id=\"T_b8bcb_row16_col0\" class=\"data row16 col0\" >16</td>\n",
              "      <td id=\"T_b8bcb_row16_col1\" class=\"data row16 col1\" >Ku-Ring-Gai</td>\n",
              "    </tr>\n",
              "    <tr>\n",
              "      <th id=\"T_b8bcb_level0_row17\" class=\"row_heading level0 row17\" >17</th>\n",
              "      <td id=\"T_b8bcb_row17_col0\" class=\"data row17 col0\" >17</td>\n",
              "      <td id=\"T_b8bcb_row17_col1\" class=\"data row17 col1\" >Lane Cove</td>\n",
              "    </tr>\n",
              "    <tr>\n",
              "      <th id=\"T_b8bcb_level0_row18\" class=\"row_heading level0 row18\" >18</th>\n",
              "      <td id=\"T_b8bcb_row18_col0\" class=\"data row18 col0\" >18</td>\n",
              "      <td id=\"T_b8bcb_row18_col1\" class=\"data row18 col1\" >Leichhardt</td>\n",
              "    </tr>\n",
              "    <tr>\n",
              "      <th id=\"T_b8bcb_level0_row19\" class=\"row_heading level0 row19\" >19</th>\n",
              "      <td id=\"T_b8bcb_row19_col0\" class=\"data row19 col0\" >19</td>\n",
              "      <td id=\"T_b8bcb_row19_col1\" class=\"data row19 col1\" >Liverpool</td>\n",
              "    </tr>\n",
              "    <tr>\n",
              "      <th id=\"T_b8bcb_level0_row20\" class=\"row_heading level0 row20\" >20</th>\n",
              "      <td id=\"T_b8bcb_row20_col0\" class=\"data row20 col0\" >20</td>\n",
              "      <td id=\"T_b8bcb_row20_col1\" class=\"data row20 col1\" >Manly</td>\n",
              "    </tr>\n",
              "    <tr>\n",
              "      <th id=\"T_b8bcb_level0_row21\" class=\"row_heading level0 row21\" >21</th>\n",
              "      <td id=\"T_b8bcb_row21_col0\" class=\"data row21 col0\" >21</td>\n",
              "      <td id=\"T_b8bcb_row21_col1\" class=\"data row21 col1\" >Marrickville</td>\n",
              "    </tr>\n",
              "    <tr>\n",
              "      <th id=\"T_b8bcb_level0_row22\" class=\"row_heading level0 row22\" >22</th>\n",
              "      <td id=\"T_b8bcb_row22_col0\" class=\"data row22 col0\" >22</td>\n",
              "      <td id=\"T_b8bcb_row22_col1\" class=\"data row22 col1\" >Mosman</td>\n",
              "    </tr>\n",
              "    <tr>\n",
              "      <th id=\"T_b8bcb_level0_row23\" class=\"row_heading level0 row23\" >23</th>\n",
              "      <td id=\"T_b8bcb_row23_col0\" class=\"data row23 col0\" >23</td>\n",
              "      <td id=\"T_b8bcb_row23_col1\" class=\"data row23 col1\" >North Sydney</td>\n",
              "    </tr>\n",
              "    <tr>\n",
              "      <th id=\"T_b8bcb_level0_row24\" class=\"row_heading level0 row24\" >24</th>\n",
              "      <td id=\"T_b8bcb_row24_col0\" class=\"data row24 col0\" >24</td>\n",
              "      <td id=\"T_b8bcb_row24_col1\" class=\"data row24 col1\" >Parramatta</td>\n",
              "    </tr>\n",
              "    <tr>\n",
              "      <th id=\"T_b8bcb_level0_row25\" class=\"row_heading level0 row25\" >25</th>\n",
              "      <td id=\"T_b8bcb_row25_col0\" class=\"data row25 col0\" >25</td>\n",
              "      <td id=\"T_b8bcb_row25_col1\" class=\"data row25 col1\" >Penrith</td>\n",
              "    </tr>\n",
              "    <tr>\n",
              "      <th id=\"T_b8bcb_level0_row26\" class=\"row_heading level0 row26\" >26</th>\n",
              "      <td id=\"T_b8bcb_row26_col0\" class=\"data row26 col0\" >26</td>\n",
              "      <td id=\"T_b8bcb_row26_col1\" class=\"data row26 col1\" >Pittwater</td>\n",
              "    </tr>\n",
              "    <tr>\n",
              "      <th id=\"T_b8bcb_level0_row27\" class=\"row_heading level0 row27\" >27</th>\n",
              "      <td id=\"T_b8bcb_row27_col0\" class=\"data row27 col0\" >27</td>\n",
              "      <td id=\"T_b8bcb_row27_col1\" class=\"data row27 col1\" >Randwick</td>\n",
              "    </tr>\n",
              "    <tr>\n",
              "      <th id=\"T_b8bcb_level0_row28\" class=\"row_heading level0 row28\" >28</th>\n",
              "      <td id=\"T_b8bcb_row28_col0\" class=\"data row28 col0\" >28</td>\n",
              "      <td id=\"T_b8bcb_row28_col1\" class=\"data row28 col1\" >Rockdale</td>\n",
              "    </tr>\n",
              "    <tr>\n",
              "      <th id=\"T_b8bcb_level0_row29\" class=\"row_heading level0 row29\" >29</th>\n",
              "      <td id=\"T_b8bcb_row29_col0\" class=\"data row29 col0\" >29</td>\n",
              "      <td id=\"T_b8bcb_row29_col1\" class=\"data row29 col1\" >Ryde</td>\n",
              "    </tr>\n",
              "    <tr>\n",
              "      <th id=\"T_b8bcb_level0_row30\" class=\"row_heading level0 row30\" >30</th>\n",
              "      <td id=\"T_b8bcb_row30_col0\" class=\"data row30 col0\" >30</td>\n",
              "      <td id=\"T_b8bcb_row30_col1\" class=\"data row30 col1\" >Strathfield</td>\n",
              "    </tr>\n",
              "    <tr>\n",
              "      <th id=\"T_b8bcb_level0_row31\" class=\"row_heading level0 row31\" >31</th>\n",
              "      <td id=\"T_b8bcb_row31_col0\" class=\"data row31 col0\" >31</td>\n",
              "      <td id=\"T_b8bcb_row31_col1\" class=\"data row31 col1\" >Sutherland Shire</td>\n",
              "    </tr>\n",
              "    <tr>\n",
              "      <th id=\"T_b8bcb_level0_row32\" class=\"row_heading level0 row32\" >32</th>\n",
              "      <td id=\"T_b8bcb_row32_col0\" class=\"data row32 col0\" >32</td>\n",
              "      <td id=\"T_b8bcb_row32_col1\" class=\"data row32 col1\" >Sydney</td>\n",
              "    </tr>\n",
              "    <tr>\n",
              "      <th id=\"T_b8bcb_level0_row33\" class=\"row_heading level0 row33\" >33</th>\n",
              "      <td id=\"T_b8bcb_row33_col0\" class=\"data row33 col0\" >33</td>\n",
              "      <td id=\"T_b8bcb_row33_col1\" class=\"data row33 col1\" >The Hills Shire</td>\n",
              "    </tr>\n",
              "    <tr>\n",
              "      <th id=\"T_b8bcb_level0_row34\" class=\"row_heading level0 row34\" >34</th>\n",
              "      <td id=\"T_b8bcb_row34_col0\" class=\"data row34 col0\" >34</td>\n",
              "      <td id=\"T_b8bcb_row34_col1\" class=\"data row34 col1\" >Warringah</td>\n",
              "    </tr>\n",
              "    <tr>\n",
              "      <th id=\"T_b8bcb_level0_row35\" class=\"row_heading level0 row35\" >35</th>\n",
              "      <td id=\"T_b8bcb_row35_col0\" class=\"data row35 col0\" >35</td>\n",
              "      <td id=\"T_b8bcb_row35_col1\" class=\"data row35 col1\" >Waverley</td>\n",
              "    </tr>\n",
              "    <tr>\n",
              "      <th id=\"T_b8bcb_level0_row36\" class=\"row_heading level0 row36\" >36</th>\n",
              "      <td id=\"T_b8bcb_row36_col0\" class=\"data row36 col0\" >36</td>\n",
              "      <td id=\"T_b8bcb_row36_col1\" class=\"data row36 col1\" >Willoughby</td>\n",
              "    </tr>\n",
              "    <tr>\n",
              "      <th id=\"T_b8bcb_level0_row37\" class=\"row_heading level0 row37\" >37</th>\n",
              "      <td id=\"T_b8bcb_row37_col0\" class=\"data row37 col0\" >37</td>\n",
              "      <td id=\"T_b8bcb_row37_col1\" class=\"data row37 col1\" >Woollahra</td>\n",
              "    </tr>\n",
              "  </tbody>\n",
              "</table>\n",
              "</div>"
            ]
          },
          "metadata": {}
        },
        {
          "output_type": "stream",
          "name": "stdout",
          "text": [
            "-------------------\n",
            "Your SQL query is correct!\n"
          ]
        }
      ]
    },
    {
      "cell_type": "markdown",
      "source": [
        "\n",
        "This vertically-scrollable table displays all of the data contained in the listings table. Feel free to explore all four tables again to familiarize yourself with the data.\n",
        "\n",
        "## Aggregation adventures\n",
        "\n",
        "As General manager for Airbnb Sydney, you need to make data-driven decisions about your region. You've already had many encounters with hosts calling in, and you anticipate many more scenarios that will require you to use SQL in the future. Let's work through some of these scenarios.\n",
        "\n",
        "---\n",
        "\n",
        "## Part 1: Printing a list of hosts whose names start with the letters Jos...\n",
        "\n",
        "Rosa is a stellar support person who works on your team at Airbnb Sydney. She is often the first person who people speak with when they call the Airbnb Sydney office. Rosa recently got a call from a host who had experienced some issues, which she was able to successfully resolve. It's now a week later, and she would like to follow-up with the host to see if they have encountered any additional problems. Unfortunately, Rosa didn't write down the *host_id* and only remembers that the host's name started with \"Jos\". Upset, Rosa asks if you can write a query that matches this description?"
      ],
      "metadata": {
        "id": "RTnUtO7qB5OK"
      }
    },
    {
      "cell_type": "code",
      "source": [
        "### Question: q2_2_1\n",
        "# Instructions: \n",
        "# 1/ Fetch all columns from the listings table\n",
        "# 2/ Make sure you filtered the data to names that start with Jos\n",
        "\n",
        "# TO BE COMPLETED\n",
        "query = \"\"\"\n",
        "SELECT * from listings where ???\n",
        "\"\"\"\n",
        "\n",
        "run(query)\n",
        "check(q2_2_1 = query)"
      ],
      "metadata": {
        "id": "zy7vvwO-B4f2"
      },
      "execution_count": null,
      "outputs": []
    },
    {
      "cell_type": "markdown",
      "source": [
        "Before Rosa follows up with the host, she wants to make sure that she is prepared for the call. Please write a SQL query that will give Rosa the following info information about the host:\n",
        "- the neighbourhood name\n",
        "- the availability of the room on the calendar\n",
        "- if there are any reviews written for the room\n",
        "\n",
        "After running these queries, please write a short summary of your findings."
      ],
      "metadata": {
        "id": "gk8tpxnDM9PH"
      }
    },
    {
      "cell_type": "code",
      "source": [
        "### Question: q2_2_2a\n",
        "# Instructions: \n",
        "# 1/ Fetch all columns from the neighbourhoods table\n",
        "# 2/ Make sure you filtered the data on the \n",
        "# neighbourhood id of the host name starting with Jos...\n",
        "\n",
        "# TO BE COMPLETED\n",
        "query = \"\"\"\n",
        "SELECT * FROM neighbourhoods ???\n",
        "\"\"\"\n",
        "\n",
        "run(query)\n",
        "check(q2_2_2a = query)"
      ],
      "metadata": {
        "id": "3d3ZR1BIM57-"
      },
      "execution_count": null,
      "outputs": []
    },
    {
      "cell_type": "code",
      "source": [
        "### Question: q2_2_2b\n",
        "# Instructions: \n",
        "# 1/ Fetch all columns from the calendar table\n",
        "# 2/ Make sure you filtered the data on the \n",
        "# listing id of the host name starting with Jos...\n",
        "\n",
        "# TO BE COMPLETED\n",
        "query = \"\"\"\n",
        "SELECT * FROM calendar ???\n",
        "\"\"\"\n",
        "\n",
        "run(query)\n",
        "check(q2_2_2b = query)"
      ],
      "metadata": {
        "id": "vihX4ewsNm6g"
      },
      "execution_count": null,
      "outputs": []
    },
    {
      "cell_type": "code",
      "source": [
        "### Question: q2_2_2c\n",
        "# Instructions: \n",
        "# 1/ Fetch all columns from the reviews table\n",
        "# 2/ Make sure you filtered the data on the \n",
        "# listing id of the host name starting with Jos...\n",
        "\n",
        "# TO BE COMPLETED\n",
        "query = \"\"\"\n",
        "SELECT * FROM reviews ???\n",
        "\"\"\"\n",
        "\n",
        "run(query)\n",
        "check(q2_2_2c = query)"
      ],
      "metadata": {
        "id": "EgQiIdPJNnHV"
      },
      "execution_count": null,
      "outputs": []
    },
    {
      "cell_type": "markdown",
      "source": [
        "If you've made it this far, you've found that the host's name is \"Joshua.\" He lives in Marrickville, has no availablility all week, and no reviews have been made for his room.\n",
        "\n",
        "If you're stuck, just post in our questions channel on Slack!"
      ],
      "metadata": {
        "id": "h-4YT2ZpOiGR"
      }
    },
    {
      "cell_type": "markdown",
      "source": [
        "---\n",
        "\n",
        "## Part 2: Airbnb Melbourne called...\n",
        "\n",
        "Airbnb Melbourne has been in operation longer than our office in Sydney. They called to gauge the prices that we have for our listings. They wanted to know the maximum, minimum, and average price for our listings to compare with what they're seeing in their region. Let's write these three queries!"
      ],
      "metadata": {
        "id": "mzYu85zuUVI5"
      }
    },
    {
      "cell_type": "code",
      "source": [
        "### Question: q2_3_1a\n",
        "# Instructions: \n",
        "# 1/ Fetch price_in_dollar from the listings table\n",
        "# 2/ Make sure you aggregated the data with the \n",
        "# average function.\n",
        "\n",
        "# TO BE COMPLETED\n",
        "query = \"\"\"\n",
        "SELECT ... FROM listings\n",
        "\"\"\"\n",
        "\n",
        "run(query)\n",
        "check(q2_3_1a = query)"
      ],
      "metadata": {
        "id": "eA46RTlNVQie"
      },
      "execution_count": null,
      "outputs": []
    },
    {
      "cell_type": "code",
      "source": [
        "### Question: q2_3_1b\n",
        "# Instructions: \n",
        "# 1/ Fetch price_in_dollar from the listings table\n",
        "# 2/ Make sure you aggregated the data with the \n",
        "# maximum function.\n",
        "\n",
        "# TO BE COMPLETED\n",
        "query = \"\"\"\n",
        "SELECT ... FROM listings\n",
        "\"\"\"\n",
        "\n",
        "run(query)\n",
        "check(q2_3_1b = query)"
      ],
      "metadata": {
        "id": "4hloPjd-VS40"
      },
      "execution_count": null,
      "outputs": []
    },
    {
      "cell_type": "code",
      "source": [
        "### Question: q2_3_1c\n",
        "# Instructions: \n",
        "# 1/ Fetch price_in_dollar from the listings table\n",
        "# 2/ Make sure you aggregated the data with the \n",
        "# minimum function.\n",
        "\n",
        "# TO BE COMPLETED\n",
        "query = \"\"\"\n",
        "SELECT ... FROM listings\n",
        "\"\"\"\n",
        "\n",
        "run(query)\n",
        "check(q2_3_1c = query)"
      ],
      "metadata": {
        "id": "6lEEgAojVTYR"
      },
      "execution_count": null,
      "outputs": []
    },
    {
      "cell_type": "markdown",
      "source": [
        "---\n",
        "\n",
        "## Part 3: Monthly growth goals.\n",
        "\n",
        "I've got headquarters on my back! They keep calling and asking whether we'll meet our monthly growth goals. We need to expand as quickly as possible all across Sydney. Some mentors tell me it's better to focus on places where we are already quite present. But I believe it'll serve us better to be spread out well across Sydney. I'm worried about overrepresentation in certain neighbourhoods, which might anger local officials and even put our jobs at risk.\n",
        "\n",
        "First, let's see if we can get an overview of which neighbourhoods have the most listings. Make use of GROUP BY where we focus on neighbourhood_id and its count."
      ],
      "metadata": {
        "id": "tatbe8pAOCJE"
      }
    },
    {
      "cell_type": "code",
      "source": [
        "### Question: q2_4_1\n",
        "# Instructions: \n",
        "# 1/ Fetch neighbourhood_id from the listings table\n",
        "# 2/ Make sure you aggregated the data with the \n",
        "# count function -- Please count the neighbourhood_id column.\n",
        "# 3/ Make sure you summarize these counts together\n",
        "# with the neighbourhood_id\n",
        "\n",
        "# TO BE COMPLETED\n",
        "query = \"\"\"\n",
        "SELECT ... FROM listings\n",
        "\"\"\"\n",
        "\n",
        "run(query)\n",
        "check(q2_4_1 = query)"
      ],
      "metadata": {
        "id": "GtiB8SapOBLo"
      },
      "execution_count": null,
      "outputs": []
    },
    {
      "cell_type": "markdown",
      "source": [
        "Hmm, let's make our results more a bit more useful. Order it by count descendingly. Also, which are the neighbourhoods that are least represented?"
      ],
      "metadata": {
        "id": "Ffxa0FIcSPjY"
      }
    },
    {
      "cell_type": "code",
      "source": [
        "### Question: q2_4_2\n",
        "# Instructions: \n",
        "# 1/ Fetch neighbourhood_id from the listings table\n",
        "# 2/ Make sure you aggregated the data with the \n",
        "# count function.\n",
        "# 3/ Make sure you summarize these counts together\n",
        "# with the neighbourhood_id\n",
        "# 4/ Make sure to order by count descendingly.\n",
        "\n",
        "# TO BE COMPLETED\n",
        "query = \"\"\"\n",
        "SELECT ... FROM listings\n",
        "\"\"\"\n",
        "\n",
        "run(query)\n",
        "check(q2_4_2 = query)"
      ],
      "metadata": {
        "id": "6uahuSUPSO_S"
      },
      "execution_count": null,
      "outputs": []
    },
    {
      "cell_type": "markdown",
      "source": [
        "Looks like we've 20 neighbourhoods in the listings table but quiet a few with really few listings. \n",
        "\n",
        "Are there neighbourhoods with no Airbnb listings?  How do we get all the neighbourhood_id's from neighbourhoods?"
      ],
      "metadata": {
        "id": "O_zBfaS6hSLX"
      }
    },
    {
      "cell_type": "code",
      "source": [
        "### Question: q2_4_3b\n",
        "# Instructions: \n",
        "# 1/ Fetch neighbourhood_id from the neighbourhoods table\n",
        "\n",
        "# TO BE COMPLETED\n",
        "query = \"\"\"\n",
        "SELECT ...\n",
        "\"\"\"\n",
        "\n",
        "run(query)\n",
        "check(q2_4_3b = query)"
      ],
      "metadata": {
        "id": "JqaftXpKnO9j"
      },
      "execution_count": null,
      "outputs": []
    },
    {
      "cell_type": "markdown",
      "source": [
        "We see about 38 neighbourhoods in the neighbourhoods table compared to the 20 in listings. So our analysis shows that some neighbourhoods have few listings or none at all. These might offer interesting new opportunities to explore."
      ],
      "metadata": {
        "id": "xpDZrYvdRE8W"
      }
    },
    {
      "cell_type": "markdown",
      "source": [
        "---\n",
        "\n",
        "## Part 4: Creating a new (simplified) column\n",
        "\n",
        "Now that we've recruited hosts and have some listings, we want to improve the experience of our customers. We want to make it faster for them to go through listings that might be of interest to them. Some of our customers have a big pockets, and others don't. So we want to make three kinds of classes:\n",
        "- Affordable (0 - 70 dollar per night)\n",
        "- Mid-range (70 - 300 dollar per night)\n",
        "- Expensive (300+ dollar per night)\n",
        "\n",
        "Let's make a SQL case statement to create a new column called \"price_range\", which includes the *listing*, *listing_id*, *host*, and *host_id*."
      ],
      "metadata": {
        "id": "Eap0sr5EPbjm"
      }
    },
    {
      "cell_type": "code",
      "source": [
        "### Question: q2_6_1\n",
        "# 1/ Fetch listing, listing_id, host, host_id\n",
        "# from the listings table\n",
        "# 2/ Create a case on price_in_dollar which takes into account:\n",
        "# - Affordable < 70\n",
        "# - Expensive > 300\n",
        "# - Else Mid-range\n",
        "# This we call price_range\n",
        "\n",
        "# TO BE COMPLETED\n",
        "query = \"\"\"\n",
        "SELECT ...\n",
        "\"\"\"\n",
        "\n",
        "run(query)\n",
        "check(q2_6_1 = query)"
      ],
      "metadata": {
        "id": "Qrib72XpPbjq"
      },
      "execution_count": null,
      "outputs": []
    },
    {
      "cell_type": "markdown",
      "source": [
        "---\n",
        "\n",
        "## (Extra Credit) Part 5: Represented or not?\n",
        "\n",
        "We're now interested in tracking all neighbourhoods in which we are \"over-represented\". Let's first count all the occurences of each neighbourhood in our `listings`-table. "
      ],
      "metadata": {
        "id": "JEkLwWA1Wa21"
      }
    },
    {
      "cell_type": "code",
      "source": [
        "### Question: q2_5_1a\n",
        "# Instructions: \n",
        "# 1/ Fetch neighbourhood_id from the listings table\n",
        "# 2/ Make sure you aggregated the data with the \n",
        "# count function.\n",
        "# 3/ Make sure you summarize these counts together\n",
        "# with the neighbourhood_id\n",
        "\n",
        "# TO BE COMPLETED\n",
        "query = \"\"\"\n",
        "SELECT ...\n",
        "\"\"\"\n",
        "\n",
        "run(query)\n",
        "check(q2_5_1a = query)"
      ],
      "metadata": {
        "id": "QsdAVWgzijZL"
      },
      "execution_count": null,
      "outputs": []
    },
    {
      "cell_type": "markdown",
      "source": [
        "Let's limit the results to only neighbourhoods that have a count higher than 4. (TIP: GROUP BY can be extended by making use of keyword HAVING)."
      ],
      "metadata": {
        "id": "7FvPNXiLisjo"
      }
    },
    {
      "cell_type": "code",
      "source": [
        "### Question: q2_5_1b\n",
        "# Instructions: \n",
        "# 1/ Fetch neighbourhood_id from the listings table\n",
        "# 2/ Make sure you aggregated the data with the \n",
        "# count function.\n",
        "# 3/ Make sure you summarize these counts together\n",
        "# with the neighbourhood_id\n",
        "# 4/ Filter this summarized count > 4 (greater than).\n",
        "\n",
        "# TO BE COMPLETED\n",
        "query = \"\"\"\n",
        "SELECT ...\n",
        "\"\"\"\n",
        "\n",
        "run(query)\n",
        "check(q2_5_1b = query)"
      ],
      "metadata": {
        "id": "L5m49_0TWZ6c"
      },
      "execution_count": null,
      "outputs": []
    },
    {
      "cell_type": "markdown",
      "source": [
        "Instead of using Id's with their count, do you know how you can turn it into names instead? (TIP: You can use the previous query. Modify it so that it returns only the neighbourhood_id instead of also the count. You first query all the neighbourhoods from the neighbourhoods-table and then use the modified query as input for a WHERE-IN clause). A good resource to see the syntax: https://www.dofactory.com/sql/subquery#examples \n",
        "\n",
        "*Since this is our first time encountering this pattern, we've provided the query as an example for you. You can use it to attempt the next question.*"
      ],
      "metadata": {
        "id": "MmU7grPpX4Ct"
      }
    },
    {
      "cell_type": "code",
      "source": [
        "### Question: q2_5_2\n",
        "# 1/ Copy the previous query\n",
        "# 2/ Remove the select count aggregation column\n",
        "# 3/ Encapsulate this query between rounded backets\n",
        "# 4/ Fetch neighbourhood names from the neighbourhoods table\n",
        "# 5/ Filter on the neighbourhood id using WHERE-IN\n",
        "# 6/ For this IN-filter we use the rounded brackets query.\n",
        "\n",
        "# TO BE COMPLETED\n",
        "query = \"\"\"\n",
        "SELECT neighbourhood\n",
        "FROM neighbourhoods\n",
        "WHERE neighbourhood_id IN (\n",
        "  SELECT neighbourhood_id \n",
        "  FROM listings \n",
        "  GROUP BY neighbourhood_id \n",
        "  HAVING COUNT(neighbourhood_id) > 4\n",
        ")\n",
        "\"\"\"\n",
        "\n",
        "run(query)\n",
        "check(q2_5_2 = query)"
      ],
      "metadata": {
        "id": "HdxWWlujX3Af"
      },
      "execution_count": null,
      "outputs": []
    },
    {
      "cell_type": "markdown",
      "source": [
        "---\n",
        "\n",
        "## (Extra Credit) Part 6: ...\n",
        "\n",
        "Lately, you've seen a lot of organic growth. The number of hosts with listings registering is going up, especially in new neighbourhoods. This is really great! \n",
        "\n",
        "But you think you can do better by running ad-campaigns supported by our data-driven insights. Your strategy is to provide new hosts with predictive insights about how much money they can make if they put their listing on Airbnb. For now we are going to take a simple approach, by first creating a query that only considers listings between the range of 70 per night to 100 per night."
      ],
      "metadata": {
        "id": "r3umAhHz22hP"
      }
    },
    {
      "cell_type": "code",
      "source": [
        "### Question: q2_7_1a\n",
        "# Instructions: \n",
        "# 1/ Fetch all columns from the listings table\n",
        "# 2/ Make sure you filter the data ranging from 70 to 100 dollar per night\n",
        "\n",
        "# TO BE COMPLETED\n",
        "query = \"\"\"\n",
        "SELECT ...\n",
        "\"\"\"\n",
        "\n",
        "run(query)\n",
        "check(q2_7_1a = query)"
      ],
      "metadata": {
        "id": "6vbaChOC3D6K"
      },
      "execution_count": null,
      "outputs": []
    },
    {
      "cell_type": "markdown",
      "source": [
        "You'll see this query results in a total of 8 listings. Now let's modify the previous query to return only listing_id as column, and use this query for a WHERE-IN clause because we want to know all the entries in the calendar table related to these listings."
      ],
      "metadata": {
        "id": "3lTG7UQj3EWB"
      }
    },
    {
      "cell_type": "code",
      "source": [
        "### Question: q2_7_1b\n",
        "# Instructions: \n",
        "# 1/ Fetch all columns from the calendar table\n",
        "# 2/ Make sure you filter the data using WHERE-IN on listing_id \n",
        "# from listings table within the 70 to 100 dollar per night price\n",
        "\n",
        "# TO BE COMPLETED\n",
        "query = \"\"\"\n",
        "SELECT ...\n",
        "\"\"\"\n",
        "\n",
        "run(query)\n",
        "check(q2_7_1b = query)"
      ],
      "metadata": {
        "id": "kpWeXg6M3Dpq"
      },
      "execution_count": null,
      "outputs": []
    },
    {
      "cell_type": "markdown",
      "source": [
        "This results in a total of 53 calendar entries. This means only 3 calendar days are missing, since normally every listing has 7 entries (a whole week).\n",
        "\n",
        "Instead of checking the table, can you use an aggregation operation to verify that the number of entries is 53?"
      ],
      "metadata": {
        "id": "hiXIi2xl3E1G"
      }
    },
    {
      "cell_type": "code",
      "source": [
        "### Question: q2_7_1c\n",
        "# Instructions: \n",
        "# 1/ Output is the aggregation of the `available` column based on the calendar table.\n",
        "# 2/ Can we get the total of the number of days using the COUNT aggregation? \n",
        "# 3/ Make sure you filter the data using WHERE-IN on listing_id \n",
        "# from listings table within the 70 to 100 dollar per night price\n",
        "\n",
        "# TO BE COMPLETED\n",
        "query = \"\"\"\n",
        "SELECT ...\n",
        "\"\"\"\n",
        "\n",
        "run(query)\n",
        "check(q2_7_1c = query)"
      ],
      "metadata": {
        "id": "M-FbvfYsEcmV"
      },
      "execution_count": null,
      "outputs": []
    },
    {
      "cell_type": "markdown",
      "source": [
        "Can you get the number of days out of these 53 calendar entries that are available, using an aggregation function?"
      ],
      "metadata": {
        "id": "tAvhko4wEb2-"
      }
    },
    {
      "cell_type": "code",
      "source": [
        "### Question: q2_7_1d\n",
        "# Instructions: \n",
        "# 1/ Output is the aggregation of the `available` column based on the calendar table.\n",
        "# 2/ Can you get the number of days out of these 53 calendar entries \n",
        "#    that are available?\n",
        "# 3/ Make sure you filter the data using WHERE-IN on listing_id \n",
        "# from listings table within the 70 to 100 dollar per night price \n",
        "# 4/ Note you need only nights that are available which are represented by available=1\n",
        "\n",
        "# TO BE COMPLETED\n",
        "query = \"\"\"\n",
        "SELECT ...\n",
        "\"\"\"\n",
        "\n",
        "run(query)\n",
        "check(q2_7_1d = query)"
      ],
      "metadata": {
        "id": "UzF_Nlz03DOm"
      },
      "execution_count": null,
      "outputs": []
    },
    {
      "cell_type": "markdown",
      "source": [
        "You observe that 9% of the time the 8 listings are available coming week. In numbers this is 5 out of 53 days. So for the 70 to 100 dollar price range we expect a host to make between \\$446 ($70*0.91*7$) to \\$637 ($100*0.91*7$) dollars per week. \n",
        "\n",
        "Now that these numbers have been calculated, you can use it in your ad-campaign. Since you calculated the answer for one particular range, you could also expand it so that you can calculate such numbers for any and all ranges. \n",
        "\n",
        "What you've worked on has many similarities to how [Linear Regression](https://corise.com/course/applied-machine-learning), a Machine learning algorithm, at scale works. You have some predictive information (current price of the listing, price-day-range-availability) which you'd like to transform into a (price) prediction. CoRise offers [several courses](https://corise.com/course/python-for-data-science) on [Machine Learning](https://corise.com/course/applied-machine-learning).\n"
      ],
      "metadata": {
        "id": "oaaA58Ot3FKJ"
      }
    },
    {
      "cell_type": "markdown",
      "source": [
        "---\n",
        "\n",
        "## 🎉 CONGRATULATIONS! \n",
        "\n",
        "You've made it to the end of the week 2 assignment! Awesome! Next step submit the project on the CoRise platform by filling the form at the bottom here: https://corise.com/course/sql-crash-course/module/week-2-project\n",
        "\n",
        "If you have any lingering questions, post them on Slack! As you know, we're always here to help.\n",
        "\n",
        "And, if you want any additional challenge questions, check out the bonus extensions below.\n",
        "\n",
        "### Bonus: Extensions\n",
        "- Can you think of improving the readability of SQL queries this weeks by using [AS](https://www.w3schools.com/sql/sql_ref_as.asp)?\n",
        "- Explore the data more and come up with other questions that you would like answered using SQL, now that you know more SQL concepts!"
      ],
      "metadata": {
        "id": "_buhQE6pEcxc"
      }
    }
  ]
}